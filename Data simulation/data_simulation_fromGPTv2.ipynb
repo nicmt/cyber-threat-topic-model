{
 "cells": [
  {
   "cell_type": "markdown",
   "id": "bc118c71-70e7-4ff2-923b-ea3336c0925f",
   "metadata": {
    "tags": []
   },
   "source": [
    "# Codes for simulating text descriptions of threat attributes on a list of CWE entries"
   ]
  },
  {
   "cell_type": "markdown",
   "id": "ff98fcd8-6f23-49d8-8cce-a3563ff462cd",
   "metadata": {},
   "source": [
    "## Preparation"
   ]
  },
  {
   "cell_type": "markdown",
   "id": "4d15ef1c-3d10-4b2c-a648-d912daebc6ca",
   "metadata": {},
   "source": [
    "Read Raw CWE list (csv)"
   ]
  },
  {
   "cell_type": "code",
   "execution_count": 1,
   "id": "37f8844d-7c09-446a-ab48-a06387c0df7b",
   "metadata": {},
   "outputs": [],
   "source": [
    "import csv"
   ]
  },
  {
   "cell_type": "code",
   "execution_count": 2,
   "id": "8d9630b8-0237-4a27-bf9e-1415b8dbc0b1",
   "metadata": {},
   "outputs": [],
   "source": [
    "# Specify the file path\n",
    "#file_path_input = 'Raw Lists/1387.csv'\n",
    "#file_path_input = 'Raw Lists/699.csv'\n",
    "file_path_input = 'Raw Lists/1194.csv'\n",
    "\n",
    "# Open the file\n",
    "with open(file_path_input, mode='r', encoding='utf-8') as file:\n",
    "    # Create a CSV reader\n",
    "    csv_reader = csv.reader(file)\n",
    "    \n",
    "    # Read the headers (first row) into a list\n",
    "    headers = next(csv_reader)\n",
    "    \n",
    "    # Create a list to store the data\n",
    "    data = []\n",
    "    \n",
    "    # Loop through each row in the CSV file\n",
    "    for row in csv_reader:\n",
    "        # Append the row data as a list to the data list\n",
    "        data.append(row)"
   ]
  },
  {
   "cell_type": "markdown",
   "id": "ee5fc3e1-3183-400f-85fc-1329dc8b89ad",
   "metadata": {},
   "source": [
    "Setup for OpenAI GPT API request"
   ]
  },
  {
   "cell_type": "code",
   "execution_count": 3,
   "id": "9537e2ba-104c-4d36-b23a-4abbe8598fd5",
   "metadata": {},
   "outputs": [],
   "source": [
    "import openai\n",
    "\n",
    "# Provide OpenAI API Key\n",
    "openai.api_key = \"fill your API key\"\n",
    "\n",
    "# Specify GPT model\n",
    "#MODEL = \"gpt-4\"\n",
    "MODEL = \"gpt-3.5-turbo\""
   ]
  },
  {
   "cell_type": "markdown",
   "id": "f8a27314-c7be-4151-ab97-a2ea03c91b39",
   "metadata": {},
   "source": [
    "## Setting up functions"
   ]
  },
  {
   "cell_type": "markdown",
   "id": "fa545d15-3846-4e7c-886b-31207b21f0eb",
   "metadata": {},
   "source": [
    "Function for creating query text for GPT to answer"
   ]
  },
  {
   "cell_type": "code",
   "execution_count": 4,
   "id": "7a01e42c-a417-4a9b-b1cb-8daef1e07b3c",
   "metadata": {},
   "outputs": [],
   "source": [
    "def getQueryText(cwe_id, cwe_desc, style=\"full sentences\"):\n",
    "\n",
    "    query_text = \\\n",
    "    f\"\"\"Here is the description of CWE {cwe_id}:\n",
    "{cwe_desc}\n",
    "\n",
    "Use what you know about this CWE and the description provided to describe the following attributes of this threat for me: the vulnerability, method, technical impact, security properties affected, severity, likelihood, relevant assets, the attack vector(s), the attacker type(s), the attacker motive(s), relevant cyber controls/countermeasures, and detection methods.\n",
    "Please use {style} for each attribute.\"\"\"\n",
    "        \n",
    "    return query_text"
   ]
  },
  {
   "cell_type": "markdown",
   "id": "960af4c4-35e1-49ba-8560-b120998ffdc1",
   "metadata": {},
   "source": [
    "Function for requesting GPT response"
   ]
  },
  {
   "cell_type": "code",
   "execution_count": 5,
   "id": "f9b10e2c-5b1f-48d8-9d3f-f2df76cff0b8",
   "metadata": {},
   "outputs": [],
   "source": [
    "def gptChat(MODEL, query_text, TEMP=0):\n",
    "\n",
    "    response = openai.ChatCompletion.create(\n",
    "        model=MODEL,\n",
    "        messages=[\n",
    "            {\"role\": \"user\", \"content\": query_text},\n",
    "        ],\n",
    "        temperature=TEMP,\n",
    "    )\n",
    "    \n",
    "    return response['choices'][0]['message']['content']"
   ]
  },
  {
   "cell_type": "markdown",
   "id": "1a04dbcf-79b6-4070-896b-22b9cf74a46a",
   "metadata": {},
   "source": [
    "## Main Run"
   ]
  },
  {
   "cell_type": "markdown",
   "id": "a426068d-918e-415f-9534-c71dfbc3cb91",
   "metadata": {},
   "source": [
    "Read the potential output file to continue from the stopping point\n",
    "(in case to continue the run from previous stopping point)"
   ]
  },
  {
   "cell_type": "code",
   "execution_count": 6,
   "id": "bee062ae-e461-4f7c-9399-eec40d9af84f",
   "metadata": {},
   "outputs": [],
   "source": [
    "# Specify the file path of output file in halt\n",
    "file_path_output = 'Outputs/simulated_data_AllHardware.csv'\n",
    "\n",
    "# Open the file\n",
    "try:\n",
    "    with open(file_path_output, mode='r', encoding='utf-8') as file:\n",
    "    # Create a CSV reader\n",
    "        csv_reader = csv.reader(file)\n",
    "\n",
    "        # Read the headers (first row) into a list (if headers in place)\n",
    "        #headers = next(csv_reader)\n",
    "\n",
    "        # Create a set to store the processed CWE id\n",
    "        processed_cwe = set()\n",
    "\n",
    "        # Loop through each row in the CSV file\n",
    "        for row in csv_reader:\n",
    "            # Add the CWE id to the set\n",
    "            processed_cwe.add(row[0])\n",
    "except:\n",
    "    processed_cwe = set()"
   ]
  },
  {
   "cell_type": "markdown",
   "id": "078ece6f-662e-4041-a806-8985eea0bed5",
   "metadata": {},
   "source": [
    "Main program for simulating text data by GPT"
   ]
  },
  {
   "cell_type": "code",
   "execution_count": 7,
   "id": "87709f6e-2ae7-4a3a-8b99-5c7e86f87deb",
   "metadata": {},
   "outputs": [
    {
     "name": "stdout",
     "output_type": "stream",
     "text": [
      "Running 0/104\n",
      "Running 1/104\n",
      "Running 2/104\n",
      "Running 3/104\n",
      "Running 4/104\n",
      "Running 5/104\n",
      "Running 6/104\n",
      "Running 7/104\n",
      "Running 8/104\n",
      "Running 9/104\n",
      "Running 10/104\n",
      "Running 11/104\n",
      "Running 12/104\n",
      "Running 13/104\n",
      "Running 14/104\n",
      "Running 15/104\n",
      "Running 16/104\n",
      "Running 17/104\n",
      "Running 18/104\n",
      "Running 19/104\n",
      "Running 20/104\n",
      "Running 21/104\n",
      "Running 22/104\n",
      "Running 23/104\n",
      "Running 24/104\n",
      "Running 25/104\n",
      "Running 26/104\n",
      "Running 27/104\n",
      "Running 28/104\n",
      "Running 29/104\n",
      "Running 30/104\n",
      "Running 31/104\n",
      "Running 32/104\n",
      "Running 33/104\n",
      "Running 34/104\n",
      "Running 35/104\n",
      "Running 36/104\n",
      "Running 37/104\n",
      "Running 38/104\n",
      "Running 39/104\n",
      "Running 40/104\n",
      "Running 41/104\n",
      "Running 42/104\n",
      "Running 43/104\n",
      "Running 44/104\n",
      "Running 45/104\n",
      "Running 46/104\n",
      "Running 47/104\n",
      "Running 48/104\n",
      "Running 49/104\n",
      "Running 50/104\n",
      "Running 51/104\n",
      "Running 52/104\n",
      "Running 53/104\n",
      "Running 54/104\n",
      "Running 55/104\n",
      "Running 56/104\n",
      "Running 57/104\n",
      "Running 58/104\n",
      "Running 59/104\n",
      "Running 60/104\n",
      "Running 61/104\n",
      "Running 62/104\n",
      "Running 63/104\n",
      "Running 64/104\n",
      "Running 65/104\n",
      "Running 66/104\n",
      "Running 67/104\n",
      "Running 68/104\n",
      "Running 69/104\n",
      "Running 70/104\n",
      "Running 71/104\n",
      "Running 72/104\n",
      "Running 73/104\n",
      "Running 74/104\n",
      "Running 75/104\n",
      "Running 76/104\n",
      "Running 77/104\n",
      "Running 78/104\n",
      "Running 79/104\n",
      "Running 80/104\n",
      "Running 81/104\n",
      "Running 82/104\n",
      "Running 83/104\n",
      "Running 84/104\n",
      "Running 85/104\n",
      "Running 86/104\n",
      "Running 87/104\n",
      "Running 88/104\n",
      "Running 89/104\n",
      "Running 90/104\n",
      "Running 91/104\n",
      "Running 92/104\n",
      "Running 93/104\n",
      "Running 94/104\n",
      "Running 95/104\n",
      "Running 96/104\n",
      "Running 97/104\n",
      "Running 98/104\n",
      "Running 99/104\n",
      "Running 100/104\n",
      "Running 101/104\n",
      "Running 102/104\n",
      "Running 103/104\n",
      "Completed Running 104/104.\n"
     ]
    }
   ],
   "source": [
    "# Initialize empty list to store simulated data\n",
    "sim_data = []\n",
    "\n",
    "# Loop thru each row of original data lists, i.e., each cyber threat\n",
    "for i, row in enumerate(data):\n",
    "    print(f\"Running {i}/{len(data)}\")\n",
    "    \n",
    "    # Check if the CWE id is already in the output file\n",
    "    if row[0] in processed_cwe:\n",
    "        continue\n",
    "    \n",
    "    # Retrieve the query text\n",
    "    query_text = getQueryText(row[0], row[4]) # default to generate in \"full sentences\"\n",
    "    #query_text = getQueryText(row[0], row[4], \"short form\")\n",
    "    \n",
    "    # Retrieve the reponse from GPT\n",
    "    threat_text = gptChat(MODEL, query_text)\n",
    "    \n",
    "    # Split the text into lines\n",
    "    lines = threat_text.strip().split('\\n\\n') # GPT may generate response in one/two line breaks\n",
    "    #lines = threat_text.strip().split('\\n')\n",
    "\n",
    "    # Convert the lines into a list\n",
    "    threat_row = [row[0]]\n",
    "    for line in lines:\n",
    "        try: # GPT may generate resposne in the format of [attribute]: [explanation]\n",
    "            # Split each line into attribute and explanation\n",
    "            attribute, explanation = line.split(': ', 1)\n",
    "            # Add to the data list\n",
    "            threat_row.append(explanation)\n",
    "        except:\n",
    "            threat_row.append(line)\n",
    "        \n",
    "    sim_data.append(threat_row)\n",
    "    # each row contains 1 column of CWE ID and 12 columns of threat attribute descriptions\n",
    "    # number of rows = number of CWE entries\n",
    "    \n",
    "print(f\"Completed Running {i+1}/{len(data)}.\")"
   ]
  },
  {
   "cell_type": "markdown",
   "id": "b49e285d-2621-4624-acff-9d26fd7734bd",
   "metadata": {},
   "source": [
    "Output the Simulated text data"
   ]
  },
  {
   "cell_type": "code",
   "execution_count": 9,
   "id": "c4e3837a-8ef2-4653-9d6f-8ef45fb207bd",
   "metadata": {},
   "outputs": [],
   "source": [
    "# Specify the file path for output file\n",
    "#file_path_output = 'Outputs/simulated_data.csv'\n",
    "#file_path_output = 'Outputs/simulated_data_shortform.csv'\n",
    "#file_path_output = 'Outputs/simulated_data_shortform_wHeaders.csv'\n",
    "#file_path_output = 'Outputs/simulated_data_AllSoftware.csv'\n",
    "file_path_output = 'Outputs/simulated_data_AllHardware.csv'\n",
    "\n",
    "# Open the file for writing\n",
    "with open(file_path_output, mode='a', newline='', encoding='utf-8') as file:\n",
    "    # Create a CSV writer\n",
    "    csv_writer = csv.writer(file)\n",
    "    \n",
    "    # Write the data to the CSV file\n",
    "    csv_writer.writerows(sim_data)"
   ]
  },
  {
   "cell_type": "code",
   "execution_count": null,
   "id": "1a0aa38c-8a58-4548-9bf4-862c30ecf3b3",
   "metadata": {},
   "outputs": [],
   "source": []
  }
 ],
 "metadata": {
  "kernelspec": {
   "display_name": "Python 3 (ipykernel)",
   "language": "python",
   "name": "python3"
  },
  "language_info": {
   "codemirror_mode": {
    "name": "ipython",
    "version": 3
   },
   "file_extension": ".py",
   "mimetype": "text/x-python",
   "name": "python",
   "nbconvert_exporter": "python",
   "pygments_lexer": "ipython3",
   "version": "3.9.17"
  }
 },
 "nbformat": 4,
 "nbformat_minor": 5
}
